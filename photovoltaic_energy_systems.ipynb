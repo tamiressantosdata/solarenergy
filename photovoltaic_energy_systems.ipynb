{
  "nbformat": 4,
  "nbformat_minor": 0,
  "metadata": {
    "colab": {
      "provenance": []
    },
    "kernelspec": {
      "name": "python3",
      "display_name": "Python 3"
    },
    "language_info": {
      "name": "python"
    }
  },
  "cells": [
    {
      "cell_type": "code",
      "execution_count": 3,
      "metadata": {
        "colab": {
          "base_uri": "https://localhost:8080/"
        },
        "id": "YiNjOYFsb0wI",
        "outputId": "8699812d-889c-4119-99ed-408d4e373acd"
      },
      "outputs": [
        {
          "output_type": "stream",
          "name": "stdout",
          "text": [
            "Looking in indexes: https://pypi.org/simple, https://us-python.pkg.dev/colab-wheels/public/simple/\n",
            "Requirement already satisfied: pvlib in /usr/local/lib/python3.7/dist-packages (0.9.3)\n",
            "Requirement already satisfied: scipy>=1.2.0 in /usr/local/lib/python3.7/dist-packages (from pvlib) (1.7.3)\n",
            "Requirement already satisfied: pandas>=0.25.0 in /usr/local/lib/python3.7/dist-packages (from pvlib) (1.3.5)\n",
            "Requirement already satisfied: h5py in /usr/local/lib/python3.7/dist-packages (from pvlib) (3.1.0)\n",
            "Requirement already satisfied: numpy>=1.16.0 in /usr/local/lib/python3.7/dist-packages (from pvlib) (1.21.6)\n",
            "Requirement already satisfied: importlib-metadata in /usr/local/lib/python3.7/dist-packages (from pvlib) (4.13.0)\n",
            "Requirement already satisfied: requests in /usr/local/lib/python3.7/dist-packages (from pvlib) (2.23.0)\n",
            "Requirement already satisfied: pytz in /usr/local/lib/python3.7/dist-packages (from pvlib) (2022.6)\n",
            "Requirement already satisfied: python-dateutil>=2.7.3 in /usr/local/lib/python3.7/dist-packages (from pandas>=0.25.0->pvlib) (2.8.2)\n",
            "Requirement already satisfied: six>=1.5 in /usr/local/lib/python3.7/dist-packages (from python-dateutil>=2.7.3->pandas>=0.25.0->pvlib) (1.15.0)\n",
            "Requirement already satisfied: cached-property in /usr/local/lib/python3.7/dist-packages (from h5py->pvlib) (1.5.2)\n",
            "Requirement already satisfied: typing-extensions>=3.6.4 in /usr/local/lib/python3.7/dist-packages (from importlib-metadata->pvlib) (4.1.1)\n",
            "Requirement already satisfied: zipp>=0.5 in /usr/local/lib/python3.7/dist-packages (from importlib-metadata->pvlib) (3.10.0)\n",
            "Requirement already satisfied: chardet<4,>=3.0.2 in /usr/local/lib/python3.7/dist-packages (from requests->pvlib) (3.0.4)\n",
            "Requirement already satisfied: certifi>=2017.4.17 in /usr/local/lib/python3.7/dist-packages (from requests->pvlib) (2022.9.24)\n",
            "Requirement already satisfied: idna<3,>=2.5 in /usr/local/lib/python3.7/dist-packages (from requests->pvlib) (2.10)\n",
            "Requirement already satisfied: urllib3!=1.25.0,!=1.25.1,<1.26,>=1.21.1 in /usr/local/lib/python3.7/dist-packages (from requests->pvlib) (1.24.3)\n"
          ]
        },
        {
          "output_type": "execute_result",
          "data": {
            "text/plain": [
              "696.1568109794828"
            ]
          },
          "metadata": {},
          "execution_count": 3
        }
      ],
      "source": [
        "!pip install pvlib\n",
        "from typing import Tuple\n",
        "from datetime import datetime\n",
        "\n",
        "import pvlib\n",
        "\n",
        "\n",
        "def solar(\n",
        "    E_ghi: float, T: float, R: float, t: datetime, *,\n",
        "    A_t: float, A_a: float, P_lon_lat: Tuple[float, float],\n",
        "    G_s: float, T_opt: float, E_std: float, T_std: float, P: float\n",
        ") -> float:\n",
        "    \"\"\"\n",
        "    Predict the photovoltaic power production.\n",
        "\n",
        "    :param E_ghi: global horizontal irradiance\n",
        "    :param T: temperature\n",
        "    :param R: ground albedo (reflectance of the ground around)\n",
        "    :param t: calendar time with precision up to seconds, in UTC\n",
        "    :param A_t: tilt angle\n",
        "    :param A_a: azimuth angle\n",
        "    :param P_lon_lat: longitude and latitude of the location\n",
        "    :param G_s: linear coefficient of efficiency decrease\n",
        "    :param T_opt: operational temerature of installation\n",
        "    :param E_std: standard irradiance\n",
        "    :param T_std: standard temperature\n",
        "    :param P: capacity of installation\n",
        "\n",
        "    :return: The power prediction of installation in Watts.\n",
        "    \"\"\"\n",
        "    # Compute the Solar Zenith Angle and Solar Azimuth Angle\n",
        "    sza_saa = pvlib.solarposition.get_solarposition(t,\n",
        "                                                    P_lon_lat[1], P_lon_lat[0])\n",
        "    # Extract SZA and SAA\n",
        "    A_sza, A_saa = sza_saa['zenith'], sza_saa['azimuth']\n",
        "    # Compute DHI and DNI (Direct Normal Irradiance and\n",
        "    # Diffuse Horizontal Irradiance) using Erbs model\n",
        "    dhi_dni = pvlib.irradiance.erbs(E_ghi, A_sza, t)\n",
        "    # Extract DHI and DNI\n",
        "    E_dhi, E_dni = dhi_dni['dhi'], dhi_dni['dni']\n",
        "    # Computes the total irradiance\n",
        "    irr = pvlib.irradiance.get_total_irradiance(A_t, A_a, A_sza, A_saa,\n",
        "                                                E_dni, E_ghi, E_dhi, albedo=R)\n",
        "    # Extract total irradiance\n",
        "    E_irr = irr['poa_global'].to_numpy().squeeze()\n",
        "\n",
        "    # Normalized temperature\n",
        "    T_n = T + E_irr * (T_opt - 20.0) / 800.0\n",
        "\n",
        "    # Predict the power:\n",
        "    return (E_irr / E_std) * (1.0 + G_s) * (T_n - T_std) * P\n",
        "\n",
        "\n",
        "# EXAMPLE\n",
        "power = solar(E_ghi=800.0, T=23.5, R=0.25, t=datetime(2020, 5, 12, 10, 30),\n",
        "              A_t=30.0, A_a=30.0, P_lon_lat=(-0.12795, 51.50774),\n",
        "              G_s=-0.004, T_opt=47.0, E_std=1000.0, T_std=43.0, P=1000.0)\n"
      ]
    },
    {
      "cell_type": "code",
      "source": [],
      "metadata": {
        "id": "K6SDv2JgeNyR"
      },
      "execution_count": null,
      "outputs": []
    },
    {
      "cell_type": "code",
      "source": [
        "power"
      ],
      "metadata": {
        "colab": {
          "base_uri": "https://localhost:8080/"
        },
        "id": "XFBtQQHScRnx",
        "outputId": "104fb697-f867-453b-9acc-0d8c7254e7eb"
      },
      "execution_count": 4,
      "outputs": [
        {
          "output_type": "execute_result",
          "data": {
            "text/plain": [
              "696.1568109794828"
            ]
          },
          "metadata": {},
          "execution_count": 4
        }
      ]
    },
    {
      "cell_type": "markdown",
      "source": [
        "\n",
        "###Reference\n",
        "### William F. Holmgren, Clifford W. Hansen, and Mark A. Mikofski. “pvlib python: a python package for modeling solar energy systems.” Journal of Open Source Software, 3(29), 884, (2018). https://doi.org/10.21105/joss.00884"
      ],
      "metadata": {
        "id": "RGVdl2p_de6p"
      }
    }
  ]
}